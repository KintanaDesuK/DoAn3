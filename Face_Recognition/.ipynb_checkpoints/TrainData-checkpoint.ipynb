{
 "cells": [
  {
   "cell_type": "code",
   "execution_count": 3,
   "metadata": {},
   "outputs": [],
   "source": []
  },
  {
   "cell_type": "code",
   "execution_count": null,
   "metadata": {},
   "outputs": [
    {
     "name": "stdout",
     "output_type": "stream",
     "text": [
      "dataset\n",
      "['dataset\\\\User.20.1.jpg', 'dataset\\\\User.20.10.jpg', 'dataset\\\\User.20.100.jpg', 'dataset\\\\User.20.101.jpg', 'dataset\\\\User.20.102.jpg', 'dataset\\\\User.20.103.jpg', 'dataset\\\\User.20.104.jpg', 'dataset\\\\User.20.105.jpg', 'dataset\\\\User.20.106.jpg', 'dataset\\\\User.20.107.jpg', 'dataset\\\\User.20.108.jpg', 'dataset\\\\User.20.109.jpg', 'dataset\\\\User.20.11.jpg', 'dataset\\\\User.20.110.jpg', 'dataset\\\\User.20.111.jpg', 'dataset\\\\User.20.112.jpg', 'dataset\\\\User.20.113.jpg', 'dataset\\\\User.20.114.jpg', 'dataset\\\\User.20.115.jpg', 'dataset\\\\User.20.116.jpg', 'dataset\\\\User.20.117.jpg', 'dataset\\\\User.20.118.jpg', 'dataset\\\\User.20.119.jpg', 'dataset\\\\User.20.12.jpg', 'dataset\\\\User.20.120.jpg', 'dataset\\\\User.20.121.jpg', 'dataset\\\\User.20.122.jpg', 'dataset\\\\User.20.123.jpg', 'dataset\\\\User.20.124.jpg', 'dataset\\\\User.20.125.jpg', 'dataset\\\\User.20.126.jpg', 'dataset\\\\User.20.127.jpg', 'dataset\\\\User.20.128.jpg', 'dataset\\\\User.20.129.jpg', 'dataset\\\\User.20.13.jpg', 'dataset\\\\User.20.130.jpg', 'dataset\\\\User.20.131.jpg', 'dataset\\\\User.20.132.jpg', 'dataset\\\\User.20.133.jpg', 'dataset\\\\User.20.134.jpg', 'dataset\\\\User.20.135.jpg', 'dataset\\\\User.20.136.jpg', 'dataset\\\\User.20.137.jpg', 'dataset\\\\User.20.138.jpg', 'dataset\\\\User.20.139.jpg', 'dataset\\\\User.20.14.jpg', 'dataset\\\\User.20.140.jpg', 'dataset\\\\User.20.141.jpg', 'dataset\\\\User.20.142.jpg', 'dataset\\\\User.20.143.jpg', 'dataset\\\\User.20.144.jpg', 'dataset\\\\User.20.145.jpg', 'dataset\\\\User.20.146.jpg', 'dataset\\\\User.20.147.jpg', 'dataset\\\\User.20.148.jpg', 'dataset\\\\User.20.149.jpg', 'dataset\\\\User.20.15.jpg', 'dataset\\\\User.20.150.jpg', 'dataset\\\\User.20.16.jpg', 'dataset\\\\User.20.17.jpg', 'dataset\\\\User.20.18.jpg', 'dataset\\\\User.20.19.jpg', 'dataset\\\\User.20.2.jpg', 'dataset\\\\User.20.20.jpg', 'dataset\\\\User.20.21.jpg', 'dataset\\\\User.20.22.jpg', 'dataset\\\\User.20.23.jpg', 'dataset\\\\User.20.24.jpg', 'dataset\\\\User.20.25.jpg', 'dataset\\\\User.20.26.jpg', 'dataset\\\\User.20.27.jpg', 'dataset\\\\User.20.28.jpg', 'dataset\\\\User.20.29.jpg', 'dataset\\\\User.20.3.jpg', 'dataset\\\\User.20.30.jpg', 'dataset\\\\User.20.31.jpg', 'dataset\\\\User.20.32.jpg', 'dataset\\\\User.20.33.jpg', 'dataset\\\\User.20.34.jpg', 'dataset\\\\User.20.35.jpg', 'dataset\\\\User.20.36.jpg', 'dataset\\\\User.20.37.jpg', 'dataset\\\\User.20.38.jpg', 'dataset\\\\User.20.39.jpg', 'dataset\\\\User.20.4.jpg', 'dataset\\\\User.20.40.jpg', 'dataset\\\\User.20.41.jpg', 'dataset\\\\User.20.42.jpg', 'dataset\\\\User.20.43.jpg', 'dataset\\\\User.20.44.jpg', 'dataset\\\\User.20.45.jpg', 'dataset\\\\User.20.46.jpg', 'dataset\\\\User.20.47.jpg', 'dataset\\\\User.20.48.jpg', 'dataset\\\\User.20.49.jpg', 'dataset\\\\User.20.5.jpg', 'dataset\\\\User.20.50.jpg', 'dataset\\\\User.20.51.jpg', 'dataset\\\\User.20.52.jpg', 'dataset\\\\User.20.53.jpg', 'dataset\\\\User.20.54.jpg', 'dataset\\\\User.20.55.jpg', 'dataset\\\\User.20.56.jpg', 'dataset\\\\User.20.57.jpg', 'dataset\\\\User.20.58.jpg', 'dataset\\\\User.20.59.jpg', 'dataset\\\\User.20.6.jpg', 'dataset\\\\User.20.60.jpg', 'dataset\\\\User.20.61.jpg', 'dataset\\\\User.20.62.jpg', 'dataset\\\\User.20.63.jpg', 'dataset\\\\User.20.64.jpg', 'dataset\\\\User.20.65.jpg', 'dataset\\\\User.20.66.jpg', 'dataset\\\\User.20.67.jpg', 'dataset\\\\User.20.68.jpg', 'dataset\\\\User.20.69.jpg', 'dataset\\\\User.20.7.jpg', 'dataset\\\\User.20.70.jpg', 'dataset\\\\User.20.71.jpg', 'dataset\\\\User.20.72.jpg', 'dataset\\\\User.20.73.jpg', 'dataset\\\\User.20.74.jpg', 'dataset\\\\User.20.75.jpg', 'dataset\\\\User.20.76.jpg', 'dataset\\\\User.20.77.jpg', 'dataset\\\\User.20.78.jpg', 'dataset\\\\User.20.79.jpg', 'dataset\\\\User.20.8.jpg', 'dataset\\\\User.20.80.jpg', 'dataset\\\\User.20.81.jpg', 'dataset\\\\User.20.82.jpg', 'dataset\\\\User.20.83.jpg', 'dataset\\\\User.20.84.jpg', 'dataset\\\\User.20.85.jpg', 'dataset\\\\User.20.86.jpg', 'dataset\\\\User.20.87.jpg', 'dataset\\\\User.20.88.jpg', 'dataset\\\\User.20.89.jpg', 'dataset\\\\User.20.9.jpg', 'dataset\\\\User.20.90.jpg', 'dataset\\\\User.20.91.jpg', 'dataset\\\\User.20.92.jpg', 'dataset\\\\User.20.93.jpg', 'dataset\\\\User.20.94.jpg', 'dataset\\\\User.20.95.jpg', 'dataset\\\\User.20.96.jpg', 'dataset\\\\User.20.97.jpg', 'dataset\\\\User.20.98.jpg', 'dataset\\\\User.20.99.jpg', 'dataset\\\\User.30.1.jpg', 'dataset\\\\User.30.10.jpg', 'dataset\\\\User.30.100.jpg', 'dataset\\\\User.30.101.jpg', 'dataset\\\\User.30.102.jpg', 'dataset\\\\User.30.103.jpg', 'dataset\\\\User.30.104.jpg', 'dataset\\\\User.30.105.jpg', 'dataset\\\\User.30.106.jpg', 'dataset\\\\User.30.107.jpg', 'dataset\\\\User.30.108.jpg', 'dataset\\\\User.30.109.jpg', 'dataset\\\\User.30.11.jpg', 'dataset\\\\User.30.110.jpg', 'dataset\\\\User.30.111.jpg', 'dataset\\\\User.30.112.jpg', 'dataset\\\\User.30.113.jpg', 'dataset\\\\User.30.114.jpg', 'dataset\\\\User.30.115.jpg', 'dataset\\\\User.30.116.jpg', 'dataset\\\\User.30.117.jpg', 'dataset\\\\User.30.118.jpg', 'dataset\\\\User.30.119.jpg', 'dataset\\\\User.30.12.jpg', 'dataset\\\\User.30.120.jpg', 'dataset\\\\User.30.121.jpg', 'dataset\\\\User.30.122.jpg', 'dataset\\\\User.30.123.jpg', 'dataset\\\\User.30.124.jpg', 'dataset\\\\User.30.125.jpg', 'dataset\\\\User.30.126.jpg', 'dataset\\\\User.30.127.jpg', 'dataset\\\\User.30.128.jpg', 'dataset\\\\User.30.129.jpg', 'dataset\\\\User.30.13.jpg', 'dataset\\\\User.30.130.jpg', 'dataset\\\\User.30.131.jpg', 'dataset\\\\User.30.132.jpg', 'dataset\\\\User.30.133.jpg', 'dataset\\\\User.30.134.jpg', 'dataset\\\\User.30.135.jpg', 'dataset\\\\User.30.136.jpg', 'dataset\\\\User.30.137.jpg', 'dataset\\\\User.30.138.jpg', 'dataset\\\\User.30.139.jpg', 'dataset\\\\User.30.14.jpg', 'dataset\\\\User.30.140.jpg', 'dataset\\\\User.30.141.jpg', 'dataset\\\\User.30.142.jpg', 'dataset\\\\User.30.143.jpg', 'dataset\\\\User.30.144.jpg', 'dataset\\\\User.30.145.jpg', 'dataset\\\\User.30.146.jpg', 'dataset\\\\User.30.147.jpg', 'dataset\\\\User.30.148.jpg', 'dataset\\\\User.30.149.jpg', 'dataset\\\\User.30.15.jpg', 'dataset\\\\User.30.150.jpg', 'dataset\\\\User.30.16.jpg', 'dataset\\\\User.30.17.jpg', 'dataset\\\\User.30.18.jpg', 'dataset\\\\User.30.19.jpg', 'dataset\\\\User.30.2.jpg', 'dataset\\\\User.30.20.jpg', 'dataset\\\\User.30.21.jpg', 'dataset\\\\User.30.22.jpg', 'dataset\\\\User.30.23.jpg', 'dataset\\\\User.30.24.jpg', 'dataset\\\\User.30.25.jpg', 'dataset\\\\User.30.26.jpg', 'dataset\\\\User.30.27.jpg', 'dataset\\\\User.30.28.jpg', 'dataset\\\\User.30.29.jpg', 'dataset\\\\User.30.3.jpg', 'dataset\\\\User.30.30.jpg', 'dataset\\\\User.30.31.jpg', 'dataset\\\\User.30.32.jpg', 'dataset\\\\User.30.33.jpg', 'dataset\\\\User.30.34.jpg', 'dataset\\\\User.30.35.jpg', 'dataset\\\\User.30.36.jpg', 'dataset\\\\User.30.37.jpg', 'dataset\\\\User.30.38.jpg', 'dataset\\\\User.30.39.jpg', 'dataset\\\\User.30.4.jpg', 'dataset\\\\User.30.40.jpg', 'dataset\\\\User.30.41.jpg', 'dataset\\\\User.30.42.jpg', 'dataset\\\\User.30.43.jpg', 'dataset\\\\User.30.44.jpg', 'dataset\\\\User.30.45.jpg', 'dataset\\\\User.30.46.jpg', 'dataset\\\\User.30.47.jpg', 'dataset\\\\User.30.48.jpg', 'dataset\\\\User.30.49.jpg', 'dataset\\\\User.30.5.jpg', 'dataset\\\\User.30.50.jpg', 'dataset\\\\User.30.51.jpg', 'dataset\\\\User.30.52.jpg', 'dataset\\\\User.30.53.jpg', 'dataset\\\\User.30.54.jpg', 'dataset\\\\User.30.55.jpg', 'dataset\\\\User.30.56.jpg', 'dataset\\\\User.30.57.jpg', 'dataset\\\\User.30.58.jpg', 'dataset\\\\User.30.59.jpg', 'dataset\\\\User.30.6.jpg', 'dataset\\\\User.30.60.jpg', 'dataset\\\\User.30.61.jpg', 'dataset\\\\User.30.62.jpg', 'dataset\\\\User.30.63.jpg', 'dataset\\\\User.30.64.jpg', 'dataset\\\\User.30.65.jpg', 'dataset\\\\User.30.66.jpg', 'dataset\\\\User.30.67.jpg', 'dataset\\\\User.30.68.jpg', 'dataset\\\\User.30.69.jpg', 'dataset\\\\User.30.7.jpg', 'dataset\\\\User.30.70.jpg', 'dataset\\\\User.30.71.jpg', 'dataset\\\\User.30.72.jpg', 'dataset\\\\User.30.73.jpg', 'dataset\\\\User.30.74.jpg', 'dataset\\\\User.30.75.jpg', 'dataset\\\\User.30.76.jpg', 'dataset\\\\User.30.77.jpg', 'dataset\\\\User.30.78.jpg', 'dataset\\\\User.30.79.jpg', 'dataset\\\\User.30.8.jpg', 'dataset\\\\User.30.80.jpg', 'dataset\\\\User.30.81.jpg', 'dataset\\\\User.30.82.jpg', 'dataset\\\\User.30.83.jpg', 'dataset\\\\User.30.84.jpg', 'dataset\\\\User.30.85.jpg', 'dataset\\\\User.30.86.jpg', 'dataset\\\\User.30.87.jpg', 'dataset\\\\User.30.88.jpg', 'dataset\\\\User.30.89.jpg', 'dataset\\\\User.30.9.jpg', 'dataset\\\\User.30.90.jpg', 'dataset\\\\User.30.91.jpg', 'dataset\\\\User.30.92.jpg', 'dataset\\\\User.30.93.jpg', 'dataset\\\\User.30.94.jpg', 'dataset\\\\User.30.95.jpg', 'dataset\\\\User.30.96.jpg', 'dataset\\\\User.30.97.jpg', 'dataset\\\\User.30.98.jpg', 'dataset\\\\User.30.99.jpg']\n"
     ]
    }
   ],
   "source": [
    "#Import library\n",
    "import cv2\n",
    "import numpy as np\n",
    "import os\n",
    "from PIL import Image\n",
    "recognizer = cv2.face.LBPHFaceRecognizer_create()\n",
    "path = 'dataset'\n",
    "\n",
    "def getImageWithId(path):\n",
    "    print(path)\n",
    "    imagePaths = [os.path.join(path, f) for f in os.listdir(path)]\n",
    "    print(imagePaths)\n",
    "    \n",
    "    faces =[]\n",
    "    IDs = []\n",
    "    \n",
    "    for imagePath in imagePaths:\n",
    "        faceImg = Image.open(imagePath).convert('L')\n",
    "        faceNp = np.array(faceImg, 'uint8')\n",
    "        #print(faceNp)\n",
    "        \n",
    "        Id = int(imagePath.split('\\\\')[1].split('.')[1])\n",
    "        faces.append(faceNp)\n",
    "        IDs.append(Id)\n",
    "        \n",
    "        cv2.imshow('training', faceNp)\n",
    "        cv2.waitKey(10)\n",
    "        \n",
    "    return faces, IDs\n",
    "    \n",
    "\n",
    "faces, Ids = getImageWithId(path)\n",
    "recognizer.train(faces, np.array(Ids))\n",
    "\n",
    "if not os.path.exists('recognizer'):\n",
    "    os.makedirs('recognizer')\n",
    "\n",
    "recognizer.save('recognizer/trainingData.yml')\n",
    "cv2.destroyAllWindows()"
   ]
  },
  {
   "cell_type": "code",
   "execution_count": null,
   "metadata": {},
   "outputs": [],
   "source": []
  },
  {
   "cell_type": "code",
   "execution_count": null,
   "metadata": {},
   "outputs": [],
   "source": []
  },
  {
   "cell_type": "code",
   "execution_count": null,
   "metadata": {},
   "outputs": [],
   "source": []
  },
  {
   "cell_type": "code",
   "execution_count": null,
   "metadata": {},
   "outputs": [],
   "source": []
  },
  {
   "cell_type": "code",
   "execution_count": null,
   "metadata": {},
   "outputs": [],
   "source": []
  },
  {
   "cell_type": "code",
   "execution_count": null,
   "metadata": {},
   "outputs": [],
   "source": []
  },
  {
   "cell_type": "code",
   "execution_count": null,
   "metadata": {},
   "outputs": [],
   "source": []
  }
 ],
 "metadata": {
  "kernelspec": {
   "display_name": "Python 3",
   "language": "python",
   "name": "python3"
  },
  "language_info": {
   "codemirror_mode": {
    "name": "ipython",
    "version": 3
   },
   "file_extension": ".py",
   "mimetype": "text/x-python",
   "name": "python",
   "nbconvert_exporter": "python",
   "pygments_lexer": "ipython3",
   "version": "3.7.3"
  }
 },
 "nbformat": 4,
 "nbformat_minor": 4
}

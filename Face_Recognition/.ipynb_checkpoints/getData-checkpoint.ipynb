{
 "cells": [
  {
   "cell_type": "code",
   "execution_count": null,
   "metadata": {},
   "outputs": [],
   "source": []
  },
  {
   "cell_type": "code",
   "execution_count": 4,
   "metadata": {},
   "outputs": [
    {
     "name": "stdout",
     "output_type": "stream",
     "text": [
      "Enter your ID: 10\n",
      "Enter Your Name: Nguyên\n"
     ]
    },
    {
     "ename": "OperationalError",
     "evalue": "('08001', '[08001] [Microsoft][ODBC SQL Server Driver][DBNETLIB]SQL Server does not exist or access denied. (17) (SQLDriverConnect); [08001] [Microsoft][ODBC SQL Server Driver][DBNETLIB]ConnectionOpen (Connect()). (53)')",
     "output_type": "error",
     "traceback": [
      "\u001b[1;31m---------------------------------------------------------------------------\u001b[0m",
      "\u001b[1;31mOperationalError\u001b[0m                          Traceback (most recent call last)",
      "\u001b[1;32m<ipython-input-4-5c572be4b081>\u001b[0m in \u001b[0;36m<module>\u001b[1;34m\u001b[0m\n\u001b[0;32m     31\u001b[0m \u001b[0mid\u001b[0m \u001b[1;33m=\u001b[0m \u001b[0minput\u001b[0m\u001b[1;33m(\u001b[0m\u001b[1;34m\"Enter your ID: \"\u001b[0m\u001b[1;33m)\u001b[0m\u001b[1;33m\u001b[0m\u001b[1;33m\u001b[0m\u001b[0m\n\u001b[0;32m     32\u001b[0m \u001b[0mname\u001b[0m \u001b[1;33m=\u001b[0m \u001b[0minput\u001b[0m\u001b[1;33m(\u001b[0m\u001b[1;34m\"Enter Your Name: \"\u001b[0m\u001b[1;33m)\u001b[0m\u001b[1;33m\u001b[0m\u001b[1;33m\u001b[0m\u001b[0m\n\u001b[1;32m---> 33\u001b[1;33m \u001b[0minsertOrUpdate\u001b[0m\u001b[1;33m(\u001b[0m\u001b[0mid\u001b[0m\u001b[1;33m,\u001b[0m \u001b[0mname\u001b[0m\u001b[1;33m)\u001b[0m\u001b[1;33m\u001b[0m\u001b[1;33m\u001b[0m\u001b[0m\n\u001b[0m\u001b[0;32m     34\u001b[0m \u001b[0msampleNum\u001b[0m \u001b[1;33m=\u001b[0m\u001b[1;36m0\u001b[0m\u001b[1;33m\u001b[0m\u001b[1;33m\u001b[0m\u001b[0m\n\u001b[0;32m     35\u001b[0m \u001b[1;33m\u001b[0m\u001b[0m\n",
      "\u001b[1;32m<ipython-input-4-5c572be4b081>\u001b[0m in \u001b[0;36minsertOrUpdate\u001b[1;34m(id, name)\u001b[0m\n\u001b[0;32m      5\u001b[0m \u001b[1;32mimport\u001b[0m \u001b[0mos\u001b[0m\u001b[1;33m\u001b[0m\u001b[1;33m\u001b[0m\u001b[0m\n\u001b[0;32m      6\u001b[0m \u001b[1;32mdef\u001b[0m \u001b[0minsertOrUpdate\u001b[0m\u001b[1;33m(\u001b[0m\u001b[0mid\u001b[0m\u001b[1;33m,\u001b[0m \u001b[0mname\u001b[0m\u001b[1;33m)\u001b[0m\u001b[1;33m:\u001b[0m\u001b[1;33m\u001b[0m\u001b[1;33m\u001b[0m\u001b[0m\n\u001b[1;32m----> 7\u001b[1;33m     conn = pyodbc.connect('Driver={SQL Server};'\n\u001b[0m\u001b[0;32m      8\u001b[0m                       \u001b[1;34m'Server=DESKTOP-5NP05L4\\VANLONGDOAN;'\u001b[0m\u001b[1;33m\u001b[0m\u001b[1;33m\u001b[0m\u001b[0m\n\u001b[0;32m      9\u001b[0m                       \u001b[1;34m'Database=data;'\u001b[0m\u001b[1;33m\u001b[0m\u001b[1;33m\u001b[0m\u001b[0m\n",
      "\u001b[1;31mOperationalError\u001b[0m: ('08001', '[08001] [Microsoft][ODBC SQL Server Driver][DBNETLIB]SQL Server does not exist or access denied. (17) (SQLDriverConnect); [08001] [Microsoft][ODBC SQL Server Driver][DBNETLIB]ConnectionOpen (Connect()). (53)')"
     ]
    }
   ],
   "source": [
    "#Import library\n",
    "import cv2\n",
    "import numpy as np\n",
    "import pyodbc\n",
    "import os\n",
    "def insertOrUpdate(id, name):\n",
    "    conn = pyodbc.connect('Driver={SQL Server};'\n",
    "                      'Server=DESKTOP-03G7ADL\\TANNGUYEN;'\n",
    "                      'Database=dataset;'\n",
    "                      'Trusted_Connection=yes;')\n",
    "    query = \"SELECT *FROM people WHERE ID=\" +str(id)\n",
    "    cursor = conn.execute(query)\n",
    "    \n",
    "    #Biến kiểm tra có tồn tại hay chưa (nếu tồn tại thì =1)\n",
    "    isRecordExist = 0\n",
    "    \n",
    "    for row in cursor:\n",
    "        isRecordExist = 1\n",
    "    if(isRecordExist == 0):\n",
    "        query = \"INSERT INTO people(ID, NAME) VALUES(\"+str(id)+ \", ' \"+str(name)+\" ')\"\n",
    "    else:\n",
    "        query = \"UPDATE people SET NAME=' \"+str(name)+\" ' WHERE ID=\"+str(id)\n",
    "    conn.execute(query)\n",
    "    conn.commit()\n",
    "    conn.close()\n",
    "# Load library\n",
    "faceCascade = cv2.CascadeClassifier(\"haarcascade_frontalface_default.xml\")\n",
    "cap = cv2.VideoCapture(0)\n",
    "\n",
    "#Insert to db\n",
    "id = input(\"Enter your ID: \")\n",
    "name = input(\"Enter Your Name: \")\n",
    "insertOrUpdate(id, name)\n",
    "sampleNum =0\n",
    "\n",
    "while(True):\n",
    "    # Chụp lại từng khung hình\n",
    "    ret, frame = cap.read()\n",
    "    assert ret\n",
    "         # Quá trình nhận diện sẽ được thực hiện trên ảnh xám (Đen/Trắng)\n",
    "    gray = cv2.cvtColor(frame, cv2.COLOR_BGR2GRAY) # Chuyển ảnh màu sang ảnh xám\n",
    "\n",
    "        # Thực thi Face Detection\n",
    "    faces = faceCascade.detectMultiScale(gray, 1.3, 5)\n",
    "\n",
    "    for (x, y, w, h) in faces:\n",
    "        cv2.rectangle(frame, (x, y), (x+w, y+h), (0, 255, 0), 2)\n",
    "        if not os.path.exists('dataset'):\n",
    "            os.makedirs('dataset')\n",
    "        sampleNum +=1\n",
    "            #Cắt ảnh theo hình vuông rồi lưu lại để train\n",
    "        cv2.imwrite('dataset/User.' + str(id) + '.' + str(sampleNum)+ '.jpg', gray[y: y+h, x: x+w])\n",
    "    cv2.imshow('frame', frame)\n",
    "    cv2.waitKey(1)\n",
    "    \n",
    "        #Nếu lưu được 150 tấm thì dừng\n",
    "    if(sampleNum >149):\n",
    "        break\n",
    "cap.release()\n",
    "cv2.destroyAllWindows()"
   ]
  },
  {
   "cell_type": "code",
   "execution_count": null,
   "metadata": {},
   "outputs": [],
   "source": []
  }
 ],
 "metadata": {
  "kernelspec": {
   "display_name": "Python 3",
   "language": "python",
   "name": "python3"
  },
  "language_info": {
   "codemirror_mode": {
    "name": "ipython",
    "version": 3
   },
   "file_extension": ".py",
   "mimetype": "text/x-python",
   "name": "python",
   "nbconvert_exporter": "python",
   "pygments_lexer": "ipython3",
   "version": "3.7.3"
  }
 },
 "nbformat": 4,
 "nbformat_minor": 4
}

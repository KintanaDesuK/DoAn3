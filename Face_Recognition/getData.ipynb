{
 "cells": [
  {
   "cell_type": "code",
   "execution_count": null,
   "metadata": {},
   "outputs": [],
   "source": []
  },
  {
   "cell_type": "code",
   "execution_count": 1,
   "metadata": {},
   "outputs": [
    {
     "name": "stdout",
     "output_type": "stream",
     "text": [
      "Enter your ID: 1\n",
      "Enter Your Name: Nguyên\n"
     ]
    }
   ],
   "source": [
    "#Import library\n",
    "import cv2\n",
    "import numpy as np\n",
    "import pyodbc\n",
    "import os\n",
    "def insertOrUpdate(id, name):\n",
    "    conn = pyodbc.connect('Driver={SQL Server};'\n",
    "                      'Server=DESKTOP-03G7ADL\\TANNGUYEN;'\n",
    "                      'Database=dataset;'\n",
    "                      'Trusted_Connection=yes;')\n",
    "    query = \"SELECT *FROM people WHERE ID=\" +str(id)\n",
    "    cursor = conn.execute(query)\n",
    "    \n",
    "    #Biến kiểm tra có tồn tại hay chưa (nếu tồn tại thì =1)\n",
    "    isRecordExist = 0\n",
    "    \n",
    "    for row in cursor:\n",
    "        isRecordExist = 1\n",
    "    if(isRecordExist == 0):\n",
    "        query = \"INSERT INTO people(ID, NAME) VALUES(\"+str(id)+ \", ' \"+str(name)+\" ')\"\n",
    "    else:\n",
    "        query = \"UPDATE people SET NAME=' \"+str(name)+\" ' WHERE ID=\"+str(id)\n",
    "    conn.execute(query)\n",
    "    conn.commit()\n",
    "    conn.close()\n",
    "# Load library\n",
    "faceCascade = cv2.CascadeClassifier(\"haarcascade_frontalface_default.xml\")\n",
    "cap = cv2.VideoCapture(0)\n",
    "\n",
    "#Insert to db\n",
    "id = input(\"Enter your ID: \")\n",
    "name = input(\"Enter Your Name: \")\n",
    "insertOrUpdate(id, name)\n",
    "sampleNum =0\n",
    "\n",
    "while(True):\n",
    "    # Chụp lại từng khung hình\n",
    "    ret, frame = cap.read()\n",
    "    assert ret\n",
    "         # Quá trình nhận diện sẽ được thực hiện trên ảnh xám (Đen/Trắng)\n",
    "    gray = cv2.cvtColor(frame, cv2.COLOR_BGR2GRAY) # Chuyển ảnh màu sang ảnh xám\n",
    "\n",
    "        # Thực thi Face Detection\n",
    "    faces = faceCascade.detectMultiScale(gray, 1.3, 5)\n",
    "\n",
    "    for (x, y, w, h) in faces:\n",
    "        cv2.rectangle(frame, (x, y), (x+w, y+h), (0, 255, 0), 2)\n",
    "        if not os.path.exists('dataset'):\n",
    "            os.makedirs('dataset')\n",
    "        sampleNum +=1\n",
    "            #Cắt ảnh theo hình vuông rồi lưu lại để train\n",
    "        cv2.imwrite('dataset/User.' + str(id) + '.' + str(sampleNum)+ '.jpg', gray[y: y+h, x: x+w])\n",
    "    cv2.imshow('frame', frame)\n",
    "    cv2.waitKey(1)\n",
    "    \n",
    "        #Nếu lưu được 150 tấm thì dừng\n",
    "    if(sampleNum >149):\n",
    "        break\n",
    "cap.release()\n",
    "cv2.destroyAllWindows()"
   ]
  },
  {
   "cell_type": "code",
   "execution_count": null,
   "metadata": {},
   "outputs": [],
   "source": []
  }
 ],
 "metadata": {
  "kernelspec": {
   "display_name": "Python 3",
   "language": "python",
   "name": "python3"
  },
  "language_info": {
   "codemirror_mode": {
    "name": "ipython",
    "version": 3
   },
   "file_extension": ".py",
   "mimetype": "text/x-python",
   "name": "python",
   "nbconvert_exporter": "python",
   "pygments_lexer": "ipython3",
   "version": "3.7.3"
  }
 },
 "nbformat": 4,
 "nbformat_minor": 4
}
